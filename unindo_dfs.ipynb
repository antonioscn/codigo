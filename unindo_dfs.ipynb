{
  "nbformat": 4,
  "nbformat_minor": 0,
  "metadata": {
    "colab": {
      "name": "unindo_dfs.ipynb",
      "provenance": [],
      "authorship_tag": "ABX9TyNuMThpRgiy+HC+Th/FZXfg",
      "include_colab_link": true
    },
    "kernelspec": {
      "name": "python3",
      "display_name": "Python 3"
    }
  },
  "cells": [
    {
      "cell_type": "markdown",
      "metadata": {
        "id": "view-in-github",
        "colab_type": "text"
      },
      "source": [
        "<a href=\"https://colab.research.google.com/github/dataneto/codigo/blob/main/unindo_dfs.ipynb\" target=\"_parent\"><img src=\"https://colab.research.google.com/assets/colab-badge.svg\" alt=\"Open In Colab\"/></a>"
      ]
    },
    {
      "cell_type": "code",
      "metadata": {
        "id": "pM9Pr0zIQcZa"
      },
      "source": [
        "import pandas as pd"
      ],
      "execution_count": 1,
      "outputs": []
    },
    {
      "cell_type": "code",
      "metadata": {
        "id": "w4lgDtvFQg-Q"
      },
      "source": [
        "usuarios1 = pd.read_csv('https://raw.githubusercontent.com/dataneto/AnalisandoAPandemia/main/Usuarios/Ativos/Usuarios_ativos/usuarios1?token=AP2O2Y5DU3CXEZY4FK2RRMDACQKDY')"
      ],
      "execution_count": 61,
      "outputs": []
    },
    {
      "cell_type": "code",
      "metadata": {
        "id": "tYMu2uxRUyDv"
      },
      "source": [
        "usuarios2 = pd.read_csv('https://raw.githubusercontent.com/dataneto/AnalisandoAPandemia/main/Usuarios/Ativos/Usuarios_ativos/usuarios2%20(1)?token=AP2O2Y7JHE3D2CLVAGR7AG3ACQKEO')"
      ],
      "execution_count": 62,
      "outputs": []
    },
    {
      "cell_type": "code",
      "metadata": {
        "id": "HLrviJAMUx8p"
      },
      "source": [
        "usuarios3 = pd.read_csv('https://raw.githubusercontent.com/dataneto/AnalisandoAPandemia/main/Usuarios/Ativos/Usuarios_ativos/usuarios3?token=AP2O2Y4ZIQBBN3ESRPQQDCLACQKFG')\r\n"
      ],
      "execution_count": 63,
      "outputs": []
    },
    {
      "cell_type": "code",
      "metadata": {
        "id": "65R3IDHAUx1H"
      },
      "source": [
        "usuarios4 = pd.read_csv('https://raw.githubusercontent.com/dataneto/AnalisandoAPandemia/main/Usuarios/Ativos/Usuarios_ativos/usuarios4?token=AP2O2Y3YLCPKI63S37WE3U3ACQKFS')"
      ],
      "execution_count": 64,
      "outputs": []
    },
    {
      "cell_type": "code",
      "metadata": {
        "id": "_mOtjWaqjDmw"
      },
      "source": [
        "usuarios5 = pd.read_csv('/content/usuarios5')"
      ],
      "execution_count": 75,
      "outputs": []
    },
    {
      "cell_type": "code",
      "metadata": {
        "id": "X0m0DqkkjDgW"
      },
      "source": [
        "usuarios6 = pd.read_csv('/content/usuarios6')"
      ],
      "execution_count": 68,
      "outputs": []
    },
    {
      "cell_type": "code",
      "metadata": {
        "id": "98H_mTF5jDam"
      },
      "source": [
        "usuarios7 = pd.read_csv('/content/usuarios7')"
      ],
      "execution_count": 69,
      "outputs": []
    },
    {
      "cell_type": "code",
      "metadata": {
        "id": "XkCxwMPsjDVm"
      },
      "source": [
        "usuarios8 = pd.read_csv('/content/usuarios8')"
      ],
      "execution_count": 70,
      "outputs": []
    },
    {
      "cell_type": "code",
      "metadata": {
        "id": "olKLc8cLjDQo"
      },
      "source": [
        "usuarios9 = pd.read_csv('/content/usuarios9')"
      ],
      "execution_count": 71,
      "outputs": []
    },
    {
      "cell_type": "code",
      "metadata": {
        "id": "DeUJ1-tijDL3"
      },
      "source": [
        "usuarios10 = pd.read_csv('/content/usuarios10')"
      ],
      "execution_count": 72,
      "outputs": []
    },
    {
      "cell_type": "code",
      "metadata": {
        "id": "8FfdGqpqjHmJ"
      },
      "source": [
        "usuarios11 = pd.read_csv('/content/usuarios11')"
      ],
      "execution_count": 73,
      "outputs": []
    },
    {
      "cell_type": "code",
      "metadata": {
        "id": "4TEuVFMhb3_V"
      },
      "source": [
        "usuarios12 = pd.read_csv('/content/usuarios12')"
      ],
      "execution_count": 66,
      "outputs": []
    },
    {
      "cell_type": "code",
      "metadata": {
        "id": "98uxVGeAQ3nF"
      },
      "source": [
        "usuarios_ = [usuarios1, usuarios2, usuarios3, usuarios4, usuarios5, usuarios6, usuarios7, usuarios8, usuarios9, usuarios10, usuarios11, usuarios12]"
      ],
      "execution_count": 76,
      "outputs": []
    },
    {
      "cell_type": "code",
      "metadata": {
        "id": "BbajuI_nROB3"
      },
      "source": [
        "usuarios_x = pd.concat(usuarios_)"
      ],
      "execution_count": 77,
      "outputs": []
    },
    {
      "cell_type": "code",
      "metadata": {
        "colab": {
          "base_uri": "https://localhost:8080/",
          "height": 419
        },
        "id": "RfocBjLxYM7l",
        "outputId": "173c14ac-ea40-40ed-b2c9-cb771ff0cd86"
      },
      "source": [
        "usuarios_x"
      ],
      "execution_count": 79,
      "outputs": [
        {
          "output_type": "execute_result",
          "data": {
            "text/html": [
              "<div>\n",
              "<style scoped>\n",
              "    .dataframe tbody tr th:only-of-type {\n",
              "        vertical-align: middle;\n",
              "    }\n",
              "\n",
              "    .dataframe tbody tr th {\n",
              "        vertical-align: top;\n",
              "    }\n",
              "\n",
              "    .dataframe thead th {\n",
              "        text-align: right;\n",
              "    }\n",
              "</style>\n",
              "<table border=\"1\" class=\"dataframe\">\n",
              "  <thead>\n",
              "    <tr style=\"text-align: right;\">\n",
              "      <th></th>\n",
              "      <th>Unnamed: 0</th>\n",
              "      <th>usuario</th>\n",
              "      <th>Unnamed: 0.1</th>\n",
              "      <th>nome</th>\n",
              "      <th>descricao</th>\n",
              "      <th>localizacao</th>\n",
              "    </tr>\n",
              "  </thead>\n",
              "  <tbody>\n",
              "    <tr>\n",
              "      <th>0</th>\n",
              "      <td>0</td>\n",
              "      <td>letrapreta</td>\n",
              "      <td>NaN</td>\n",
              "      <td>NaN</td>\n",
              "      <td>NaN</td>\n",
              "      <td>NaN</td>\n",
              "    </tr>\n",
              "    <tr>\n",
              "      <th>1</th>\n",
              "      <td>1</td>\n",
              "      <td>bicmuller</td>\n",
              "      <td>NaN</td>\n",
              "      <td>NaN</td>\n",
              "      <td>NaN</td>\n",
              "      <td>NaN</td>\n",
              "    </tr>\n",
              "    <tr>\n",
              "      <th>2</th>\n",
              "      <td>2</td>\n",
              "      <td>felipeneto</td>\n",
              "      <td>NaN</td>\n",
              "      <td>NaN</td>\n",
              "      <td>NaN</td>\n",
              "      <td>NaN</td>\n",
              "    </tr>\n",
              "    <tr>\n",
              "      <th>3</th>\n",
              "      <td>3</td>\n",
              "      <td>oatila</td>\n",
              "      <td>NaN</td>\n",
              "      <td>NaN</td>\n",
              "      <td>NaN</td>\n",
              "      <td>NaN</td>\n",
              "    </tr>\n",
              "    <tr>\n",
              "      <th>4</th>\n",
              "      <td>4</td>\n",
              "      <td>eldacarvalhobsb</td>\n",
              "      <td>NaN</td>\n",
              "      <td>NaN</td>\n",
              "      <td>NaN</td>\n",
              "      <td>NaN</td>\n",
              "    </tr>\n",
              "    <tr>\n",
              "      <th>...</th>\n",
              "      <td>...</td>\n",
              "      <td>...</td>\n",
              "      <td>...</td>\n",
              "      <td>...</td>\n",
              "      <td>...</td>\n",
              "      <td>...</td>\n",
              "    </tr>\n",
              "    <tr>\n",
              "      <th>889</th>\n",
              "      <td>220</td>\n",
              "      <td>fer_lipee</td>\n",
              "      <td>NaN</td>\n",
              "      <td>felipe</td>\n",
              "      <td>NaN</td>\n",
              "      <td>NaN</td>\n",
              "    </tr>\n",
              "    <tr>\n",
              "      <th>890</th>\n",
              "      <td>221</td>\n",
              "      <td>FelipeMessi11</td>\n",
              "      <td>NaN</td>\n",
              "      <td>Felipe Messi</td>\n",
              "      <td>E que a vida me ensinou a lutar pelo que e meu</td>\n",
              "      <td>NaN</td>\n",
              "    </tr>\n",
              "    <tr>\n",
              "      <th>891</th>\n",
              "      <td>222</td>\n",
              "      <td>savorlivre</td>\n",
              "      <td>NaN</td>\n",
              "      <td>savorlivre</td>\n",
              "      <td>NaN</td>\n",
              "      <td>NaN</td>\n",
              "    </tr>\n",
              "    <tr>\n",
              "      <th>892</th>\n",
              "      <td>223</td>\n",
              "      <td>NoTweetsGuy</td>\n",
              "      <td>NaN</td>\n",
              "      <td>NoTweets</td>\n",
              "      <td>NaN</td>\n",
              "      <td>NaN</td>\n",
              "    </tr>\n",
              "    <tr>\n",
              "      <th>893</th>\n",
              "      <td>224</td>\n",
              "      <td>Mfontenele25</td>\n",
              "      <td>NaN</td>\n",
              "      <td>Mfontenele</td>\n",
              "      <td>NaN</td>\n",
              "      <td>NaN</td>\n",
              "    </tr>\n",
              "  </tbody>\n",
              "</table>\n",
              "<p>84779 rows × 6 columns</p>\n",
              "</div>"
            ],
            "text/plain": [
              "     Unnamed: 0  ... localizacao\n",
              "0             0  ...         NaN\n",
              "1             1  ...         NaN\n",
              "2             2  ...         NaN\n",
              "3             3  ...         NaN\n",
              "4             4  ...         NaN\n",
              "..          ...  ...         ...\n",
              "889         220  ...         NaN\n",
              "890         221  ...         NaN\n",
              "891         222  ...         NaN\n",
              "892         223  ...         NaN\n",
              "893         224  ...         NaN\n",
              "\n",
              "[84779 rows x 6 columns]"
            ]
          },
          "metadata": {
            "tags": []
          },
          "execution_count": 79
        }
      ]
    },
    {
      "cell_type": "code",
      "metadata": {
        "id": "WOZlmTTDjfF1"
      },
      "source": [
        "usuarios_x = usuarios_x.drop(columns=['Unnamed: 0', 'Unnamed: 0.1', 'nome', 'descricao', 'localizacao'])"
      ],
      "execution_count": 81,
      "outputs": []
    },
    {
      "cell_type": "code",
      "metadata": {
        "colab": {
          "base_uri": "https://localhost:8080/",
          "height": 419
        },
        "id": "YYwbqYfbkEGk",
        "outputId": "bfcdc8ec-1872-4b07-81ba-d0bb1222bea6"
      },
      "source": [
        "usuarios_x"
      ],
      "execution_count": 82,
      "outputs": [
        {
          "output_type": "execute_result",
          "data": {
            "text/html": [
              "<div>\n",
              "<style scoped>\n",
              "    .dataframe tbody tr th:only-of-type {\n",
              "        vertical-align: middle;\n",
              "    }\n",
              "\n",
              "    .dataframe tbody tr th {\n",
              "        vertical-align: top;\n",
              "    }\n",
              "\n",
              "    .dataframe thead th {\n",
              "        text-align: right;\n",
              "    }\n",
              "</style>\n",
              "<table border=\"1\" class=\"dataframe\">\n",
              "  <thead>\n",
              "    <tr style=\"text-align: right;\">\n",
              "      <th></th>\n",
              "      <th>usuario</th>\n",
              "    </tr>\n",
              "  </thead>\n",
              "  <tbody>\n",
              "    <tr>\n",
              "      <th>0</th>\n",
              "      <td>letrapreta</td>\n",
              "    </tr>\n",
              "    <tr>\n",
              "      <th>1</th>\n",
              "      <td>bicmuller</td>\n",
              "    </tr>\n",
              "    <tr>\n",
              "      <th>2</th>\n",
              "      <td>felipeneto</td>\n",
              "    </tr>\n",
              "    <tr>\n",
              "      <th>3</th>\n",
              "      <td>oatila</td>\n",
              "    </tr>\n",
              "    <tr>\n",
              "      <th>4</th>\n",
              "      <td>eldacarvalhobsb</td>\n",
              "    </tr>\n",
              "    <tr>\n",
              "      <th>...</th>\n",
              "      <td>...</td>\n",
              "    </tr>\n",
              "    <tr>\n",
              "      <th>889</th>\n",
              "      <td>fer_lipee</td>\n",
              "    </tr>\n",
              "    <tr>\n",
              "      <th>890</th>\n",
              "      <td>FelipeMessi11</td>\n",
              "    </tr>\n",
              "    <tr>\n",
              "      <th>891</th>\n",
              "      <td>savorlivre</td>\n",
              "    </tr>\n",
              "    <tr>\n",
              "      <th>892</th>\n",
              "      <td>NoTweetsGuy</td>\n",
              "    </tr>\n",
              "    <tr>\n",
              "      <th>893</th>\n",
              "      <td>Mfontenele25</td>\n",
              "    </tr>\n",
              "  </tbody>\n",
              "</table>\n",
              "<p>84779 rows × 1 columns</p>\n",
              "</div>"
            ],
            "text/plain": [
              "             usuario\n",
              "0         letrapreta\n",
              "1          bicmuller\n",
              "2         felipeneto\n",
              "3             oatila\n",
              "4    eldacarvalhobsb\n",
              "..               ...\n",
              "889        fer_lipee\n",
              "890    FelipeMessi11\n",
              "891       savorlivre\n",
              "892      NoTweetsGuy\n",
              "893     Mfontenele25\n",
              "\n",
              "[84779 rows x 1 columns]"
            ]
          },
          "metadata": {
            "tags": []
          },
          "execution_count": 82
        }
      ]
    },
    {
      "cell_type": "code",
      "metadata": {
        "id": "rFx1U4IVRXM3"
      },
      "source": [
        "usuarios_x.to_csv('Users_Ativos')"
      ],
      "execution_count": 83,
      "outputs": []
    },
    {
      "cell_type": "code",
      "metadata": {
        "id": "dPYzTW4OkJAU"
      },
      "source": [
        ""
      ],
      "execution_count": null,
      "outputs": []
    }
  ]
}